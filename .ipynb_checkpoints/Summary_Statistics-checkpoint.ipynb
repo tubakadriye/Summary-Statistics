{
 "cells": [
  {
   "cell_type": "markdown",
   "id": "fdfe6850-7fbd-4d3a-88dd-4ebfd6e26406",
   "metadata": {},
   "source": [
    "## Datacamp\n",
    "### Introduction to Statistics\n",
    "#### Summary Statistics\n",
    "Kadriye Tuba Türkcan Karaca\n",
    "\n"
   ]
  },
  {
   "cell_type": "code",
   "execution_count": 1,
   "id": "9ef36dc8-2348-4a15-94e4-655197f233f7",
   "metadata": {},
   "outputs": [],
   "source": [
    "import pandas as pd\n",
    "import numpy as np"
   ]
  },
  {
   "cell_type": "markdown",
   "id": "1b295ba2-2109-4385-8cda-75abe72f3b34",
   "metadata": {},
   "source": [
    "## Mean and median\n",
    "We'll be working with the 2018 Food Carbon Footprint Index from nu3. The food_consumption dataset contains information about the kilograms of food consumed per person per year in each country in each food category (consumption) as well as information about the carbon footprint of that food category (co2_emissions) measured in kilograms of carbon dioxide, or CO2, per person per year in each country.\n",
    "\n",
    "We'll compute measures of center to compare food consumption in the US and Belgium usingpandas and numpy skills.\n"
   ]
  },
  {
   "cell_type": "code",
   "execution_count": 2,
   "id": "387da29a-bf32-48c9-9ff5-10a2202ff5d2",
   "metadata": {},
   "outputs": [],
   "source": [
    "food_consumption = pd.read_csv('food_consumption.csv', )"
   ]
  },
  {
   "cell_type": "code",
   "execution_count": 3,
   "id": "3c1de449-4d1e-4c0e-a95a-fc2f6fa921b1",
   "metadata": {},
   "outputs": [
    {
     "data": {
      "text/html": [
       "<div>\n",
       "<style scoped>\n",
       "    .dataframe tbody tr th:only-of-type {\n",
       "        vertical-align: middle;\n",
       "    }\n",
       "\n",
       "    .dataframe tbody tr th {\n",
       "        vertical-align: top;\n",
       "    }\n",
       "\n",
       "    .dataframe thead th {\n",
       "        text-align: right;\n",
       "    }\n",
       "</style>\n",
       "<table border=\"1\" class=\"dataframe\">\n",
       "  <thead>\n",
       "    <tr style=\"text-align: right;\">\n",
       "      <th></th>\n",
       "      <th>Unnamed: 0</th>\n",
       "      <th>country</th>\n",
       "      <th>food_category</th>\n",
       "      <th>consumption</th>\n",
       "      <th>co2_emission</th>\n",
       "    </tr>\n",
       "  </thead>\n",
       "  <tbody>\n",
       "    <tr>\n",
       "      <th>0</th>\n",
       "      <td>1</td>\n",
       "      <td>Argentina</td>\n",
       "      <td>pork</td>\n",
       "      <td>10.51</td>\n",
       "      <td>37.20</td>\n",
       "    </tr>\n",
       "    <tr>\n",
       "      <th>1</th>\n",
       "      <td>2</td>\n",
       "      <td>Argentina</td>\n",
       "      <td>poultry</td>\n",
       "      <td>38.66</td>\n",
       "      <td>41.53</td>\n",
       "    </tr>\n",
       "    <tr>\n",
       "      <th>2</th>\n",
       "      <td>3</td>\n",
       "      <td>Argentina</td>\n",
       "      <td>beef</td>\n",
       "      <td>55.48</td>\n",
       "      <td>1712.00</td>\n",
       "    </tr>\n",
       "    <tr>\n",
       "      <th>3</th>\n",
       "      <td>4</td>\n",
       "      <td>Argentina</td>\n",
       "      <td>lamb_goat</td>\n",
       "      <td>1.56</td>\n",
       "      <td>54.63</td>\n",
       "    </tr>\n",
       "    <tr>\n",
       "      <th>4</th>\n",
       "      <td>5</td>\n",
       "      <td>Argentina</td>\n",
       "      <td>fish</td>\n",
       "      <td>4.36</td>\n",
       "      <td>6.96</td>\n",
       "    </tr>\n",
       "  </tbody>\n",
       "</table>\n",
       "</div>"
      ],
      "text/plain": [
       "   Unnamed: 0    country food_category  consumption  co2_emission\n",
       "0           1  Argentina          pork        10.51         37.20\n",
       "1           2  Argentina       poultry        38.66         41.53\n",
       "2           3  Argentina          beef        55.48       1712.00\n",
       "3           4  Argentina     lamb_goat         1.56         54.63\n",
       "4           5  Argentina          fish         4.36          6.96"
      ]
     },
     "execution_count": 3,
     "metadata": {},
     "output_type": "execute_result"
    }
   ],
   "source": [
    "food_consumption.head()"
   ]
  },
  {
   "cell_type": "code",
   "execution_count": 4,
   "id": "8b291d70-d25d-4727-86f9-b0bdcb6f9b62",
   "metadata": {},
   "outputs": [],
   "source": [
    "    del food_consumption['Unnamed: 0']"
   ]
  },
  {
   "cell_type": "code",
   "execution_count": 5,
   "id": "c6b6760f-e72f-484d-894f-998fda024761",
   "metadata": {},
   "outputs": [
    {
     "data": {
      "text/html": [
       "<div>\n",
       "<style scoped>\n",
       "    .dataframe tbody tr th:only-of-type {\n",
       "        vertical-align: middle;\n",
       "    }\n",
       "\n",
       "    .dataframe tbody tr th {\n",
       "        vertical-align: top;\n",
       "    }\n",
       "\n",
       "    .dataframe thead th {\n",
       "        text-align: right;\n",
       "    }\n",
       "</style>\n",
       "<table border=\"1\" class=\"dataframe\">\n",
       "  <thead>\n",
       "    <tr style=\"text-align: right;\">\n",
       "      <th></th>\n",
       "      <th>country</th>\n",
       "      <th>food_category</th>\n",
       "      <th>consumption</th>\n",
       "      <th>co2_emission</th>\n",
       "    </tr>\n",
       "  </thead>\n",
       "  <tbody>\n",
       "    <tr>\n",
       "      <th>0</th>\n",
       "      <td>Argentina</td>\n",
       "      <td>pork</td>\n",
       "      <td>10.51</td>\n",
       "      <td>37.20</td>\n",
       "    </tr>\n",
       "    <tr>\n",
       "      <th>1</th>\n",
       "      <td>Argentina</td>\n",
       "      <td>poultry</td>\n",
       "      <td>38.66</td>\n",
       "      <td>41.53</td>\n",
       "    </tr>\n",
       "    <tr>\n",
       "      <th>2</th>\n",
       "      <td>Argentina</td>\n",
       "      <td>beef</td>\n",
       "      <td>55.48</td>\n",
       "      <td>1712.00</td>\n",
       "    </tr>\n",
       "    <tr>\n",
       "      <th>3</th>\n",
       "      <td>Argentina</td>\n",
       "      <td>lamb_goat</td>\n",
       "      <td>1.56</td>\n",
       "      <td>54.63</td>\n",
       "    </tr>\n",
       "    <tr>\n",
       "      <th>4</th>\n",
       "      <td>Argentina</td>\n",
       "      <td>fish</td>\n",
       "      <td>4.36</td>\n",
       "      <td>6.96</td>\n",
       "    </tr>\n",
       "  </tbody>\n",
       "</table>\n",
       "</div>"
      ],
      "text/plain": [
       "     country food_category  consumption  co2_emission\n",
       "0  Argentina          pork        10.51         37.20\n",
       "1  Argentina       poultry        38.66         41.53\n",
       "2  Argentina          beef        55.48       1712.00\n",
       "3  Argentina     lamb_goat         1.56         54.63\n",
       "4  Argentina          fish         4.36          6.96"
      ]
     },
     "execution_count": 5,
     "metadata": {},
     "output_type": "execute_result"
    }
   ],
   "source": [
    "food_consumption.head()"
   ]
  },
  {
   "cell_type": "markdown",
   "id": "3386f9e3-89f5-48ca-a83e-a4fe6217114a",
   "metadata": {},
   "source": [
    "Create two DataFrames: one that holds the rows of food_consumption for 'Belgium' and another that holds rows for 'USA'. Call these be_consumption and usa_consumption."
   ]
  },
  {
   "cell_type": "code",
   "execution_count": 6,
   "id": "3704f89e-05fe-4edc-b672-d11a0775d781",
   "metadata": {},
   "outputs": [
    {
     "data": {
      "text/html": [
       "<div>\n",
       "<style scoped>\n",
       "    .dataframe tbody tr th:only-of-type {\n",
       "        vertical-align: middle;\n",
       "    }\n",
       "\n",
       "    .dataframe tbody tr th {\n",
       "        vertical-align: top;\n",
       "    }\n",
       "\n",
       "    .dataframe thead th {\n",
       "        text-align: right;\n",
       "    }\n",
       "</style>\n",
       "<table border=\"1\" class=\"dataframe\">\n",
       "  <thead>\n",
       "    <tr style=\"text-align: right;\">\n",
       "      <th></th>\n",
       "      <th>country</th>\n",
       "      <th>food_category</th>\n",
       "      <th>consumption</th>\n",
       "      <th>co2_emission</th>\n",
       "    </tr>\n",
       "  </thead>\n",
       "  <tbody>\n",
       "    <tr>\n",
       "      <th>396</th>\n",
       "      <td>Belgium</td>\n",
       "      <td>pork</td>\n",
       "      <td>38.65</td>\n",
       "      <td>136.80</td>\n",
       "    </tr>\n",
       "    <tr>\n",
       "      <th>397</th>\n",
       "      <td>Belgium</td>\n",
       "      <td>poultry</td>\n",
       "      <td>12.20</td>\n",
       "      <td>13.11</td>\n",
       "    </tr>\n",
       "    <tr>\n",
       "      <th>398</th>\n",
       "      <td>Belgium</td>\n",
       "      <td>beef</td>\n",
       "      <td>15.63</td>\n",
       "      <td>482.31</td>\n",
       "    </tr>\n",
       "    <tr>\n",
       "      <th>399</th>\n",
       "      <td>Belgium</td>\n",
       "      <td>lamb_goat</td>\n",
       "      <td>1.32</td>\n",
       "      <td>46.23</td>\n",
       "    </tr>\n",
       "    <tr>\n",
       "      <th>400</th>\n",
       "      <td>Belgium</td>\n",
       "      <td>fish</td>\n",
       "      <td>18.97</td>\n",
       "      <td>30.29</td>\n",
       "    </tr>\n",
       "    <tr>\n",
       "      <th>401</th>\n",
       "      <td>Belgium</td>\n",
       "      <td>eggs</td>\n",
       "      <td>12.59</td>\n",
       "      <td>11.57</td>\n",
       "    </tr>\n",
       "    <tr>\n",
       "      <th>402</th>\n",
       "      <td>Belgium</td>\n",
       "      <td>dairy</td>\n",
       "      <td>236.19</td>\n",
       "      <td>336.43</td>\n",
       "    </tr>\n",
       "    <tr>\n",
       "      <th>403</th>\n",
       "      <td>Belgium</td>\n",
       "      <td>wheat</td>\n",
       "      <td>111.91</td>\n",
       "      <td>21.34</td>\n",
       "    </tr>\n",
       "    <tr>\n",
       "      <th>404</th>\n",
       "      <td>Belgium</td>\n",
       "      <td>rice</td>\n",
       "      <td>8.61</td>\n",
       "      <td>11.02</td>\n",
       "    </tr>\n",
       "    <tr>\n",
       "      <th>405</th>\n",
       "      <td>Belgium</td>\n",
       "      <td>soybeans</td>\n",
       "      <td>0.07</td>\n",
       "      <td>0.03</td>\n",
       "    </tr>\n",
       "    <tr>\n",
       "      <th>406</th>\n",
       "      <td>Belgium</td>\n",
       "      <td>nuts</td>\n",
       "      <td>7.32</td>\n",
       "      <td>12.96</td>\n",
       "    </tr>\n",
       "  </tbody>\n",
       "</table>\n",
       "</div>"
      ],
      "text/plain": [
       "     country food_category  consumption  co2_emission\n",
       "396  Belgium          pork        38.65        136.80\n",
       "397  Belgium       poultry        12.20         13.11\n",
       "398  Belgium          beef        15.63        482.31\n",
       "399  Belgium     lamb_goat         1.32         46.23\n",
       "400  Belgium          fish        18.97         30.29\n",
       "401  Belgium          eggs        12.59         11.57\n",
       "402  Belgium         dairy       236.19        336.43\n",
       "403  Belgium         wheat       111.91         21.34\n",
       "404  Belgium          rice         8.61         11.02\n",
       "405  Belgium      soybeans         0.07          0.03\n",
       "406  Belgium          nuts         7.32         12.96"
      ]
     },
     "execution_count": 6,
     "metadata": {},
     "output_type": "execute_result"
    }
   ],
   "source": [
    "# Filter for Belgium\n",
    "be_consumption = food_consumption[food_consumption['country']=='Belgium']\n",
    "be_consumption"
   ]
  },
  {
   "cell_type": "code",
   "execution_count": 7,
   "id": "6b42d628-abef-477c-a73f-920d101172af",
   "metadata": {},
   "outputs": [
    {
     "data": {
      "text/html": [
       "<div>\n",
       "<style scoped>\n",
       "    .dataframe tbody tr th:only-of-type {\n",
       "        vertical-align: middle;\n",
       "    }\n",
       "\n",
       "    .dataframe tbody tr th {\n",
       "        vertical-align: top;\n",
       "    }\n",
       "\n",
       "    .dataframe thead th {\n",
       "        text-align: right;\n",
       "    }\n",
       "</style>\n",
       "<table border=\"1\" class=\"dataframe\">\n",
       "  <thead>\n",
       "    <tr style=\"text-align: right;\">\n",
       "      <th></th>\n",
       "      <th>country</th>\n",
       "      <th>food_category</th>\n",
       "      <th>consumption</th>\n",
       "      <th>co2_emission</th>\n",
       "    </tr>\n",
       "  </thead>\n",
       "  <tbody>\n",
       "    <tr>\n",
       "      <th>55</th>\n",
       "      <td>USA</td>\n",
       "      <td>pork</td>\n",
       "      <td>27.64</td>\n",
       "      <td>97.83</td>\n",
       "    </tr>\n",
       "    <tr>\n",
       "      <th>56</th>\n",
       "      <td>USA</td>\n",
       "      <td>poultry</td>\n",
       "      <td>50.01</td>\n",
       "      <td>53.72</td>\n",
       "    </tr>\n",
       "    <tr>\n",
       "      <th>57</th>\n",
       "      <td>USA</td>\n",
       "      <td>beef</td>\n",
       "      <td>36.24</td>\n",
       "      <td>1118.29</td>\n",
       "    </tr>\n",
       "    <tr>\n",
       "      <th>58</th>\n",
       "      <td>USA</td>\n",
       "      <td>lamb_goat</td>\n",
       "      <td>0.43</td>\n",
       "      <td>15.06</td>\n",
       "    </tr>\n",
       "    <tr>\n",
       "      <th>59</th>\n",
       "      <td>USA</td>\n",
       "      <td>fish</td>\n",
       "      <td>12.35</td>\n",
       "      <td>19.72</td>\n",
       "    </tr>\n",
       "    <tr>\n",
       "      <th>60</th>\n",
       "      <td>USA</td>\n",
       "      <td>eggs</td>\n",
       "      <td>14.58</td>\n",
       "      <td>13.39</td>\n",
       "    </tr>\n",
       "    <tr>\n",
       "      <th>61</th>\n",
       "      <td>USA</td>\n",
       "      <td>dairy</td>\n",
       "      <td>254.69</td>\n",
       "      <td>362.78</td>\n",
       "    </tr>\n",
       "    <tr>\n",
       "      <th>62</th>\n",
       "      <td>USA</td>\n",
       "      <td>wheat</td>\n",
       "      <td>80.43</td>\n",
       "      <td>15.34</td>\n",
       "    </tr>\n",
       "    <tr>\n",
       "      <th>63</th>\n",
       "      <td>USA</td>\n",
       "      <td>rice</td>\n",
       "      <td>6.88</td>\n",
       "      <td>8.80</td>\n",
       "    </tr>\n",
       "    <tr>\n",
       "      <th>64</th>\n",
       "      <td>USA</td>\n",
       "      <td>soybeans</td>\n",
       "      <td>0.04</td>\n",
       "      <td>0.02</td>\n",
       "    </tr>\n",
       "    <tr>\n",
       "      <th>65</th>\n",
       "      <td>USA</td>\n",
       "      <td>nuts</td>\n",
       "      <td>7.86</td>\n",
       "      <td>13.91</td>\n",
       "    </tr>\n",
       "  </tbody>\n",
       "</table>\n",
       "</div>"
      ],
      "text/plain": [
       "   country food_category  consumption  co2_emission\n",
       "55     USA          pork        27.64         97.83\n",
       "56     USA       poultry        50.01         53.72\n",
       "57     USA          beef        36.24       1118.29\n",
       "58     USA     lamb_goat         0.43         15.06\n",
       "59     USA          fish        12.35         19.72\n",
       "60     USA          eggs        14.58         13.39\n",
       "61     USA         dairy       254.69        362.78\n",
       "62     USA         wheat        80.43         15.34\n",
       "63     USA          rice         6.88          8.80\n",
       "64     USA      soybeans         0.04          0.02\n",
       "65     USA          nuts         7.86         13.91"
      ]
     },
     "execution_count": 7,
     "metadata": {},
     "output_type": "execute_result"
    }
   ],
   "source": [
    "# Filter for USA\n",
    "usa_consumption = food_consumption[food_consumption['country']== 'USA']\n",
    "usa_consumption"
   ]
  },
  {
   "cell_type": "markdown",
   "id": "8b37a1a6-9d6f-4df7-a79a-d5d5a8f86113",
   "metadata": {},
   "source": [
    "Calculate the mean and median of kilograms of food consumed per person per year for both countries.\n",
    "\n"
   ]
  },
  {
   "cell_type": "code",
   "execution_count": 10,
   "id": "ca2f3fb7-5327-4e22-9171-a356dbfddfb1",
   "metadata": {},
   "outputs": [
    {
     "name": "stdout",
     "output_type": "stream",
     "text": [
      "42.13272727272727\n",
      "12.59\n"
     ]
    }
   ],
   "source": [
    "# Calculate mean and median consumption in Belgium\n",
    "print(be_consumption.consumption.mean())\n",
    "print(be_consumption.consumption.median())"
   ]
  },
  {
   "cell_type": "code",
   "execution_count": 11,
   "id": "8060727f-da54-4f73-adbc-1cc6f9dbb927",
   "metadata": {},
   "outputs": [
    {
     "name": "stdout",
     "output_type": "stream",
     "text": [
      "44.650000000000006\n",
      "14.58\n"
     ]
    }
   ],
   "source": [
    "# Calculate mean and median consumption in USA\n",
    "print(usa_consumption.consumption.mean())\n",
    "print(usa_consumption.consumption.median())"
   ]
  },
  {
   "cell_type": "markdown",
   "id": "4e6bac85-eb7e-48f7-80d0-245640165371",
   "metadata": {},
   "source": [
    "Subset food_consumption for rows with data about Belgium and the USA."
   ]
  },
  {
   "cell_type": "code",
   "execution_count": 12,
   "id": "ac9f6bbc-319b-4251-b8e3-cf78c1c43b3f",
   "metadata": {},
   "outputs": [
    {
     "data": {
      "text/html": [
       "<div>\n",
       "<style scoped>\n",
       "    .dataframe tbody tr th:only-of-type {\n",
       "        vertical-align: middle;\n",
       "    }\n",
       "\n",
       "    .dataframe tbody tr th {\n",
       "        vertical-align: top;\n",
       "    }\n",
       "\n",
       "    .dataframe thead th {\n",
       "        text-align: right;\n",
       "    }\n",
       "</style>\n",
       "<table border=\"1\" class=\"dataframe\">\n",
       "  <thead>\n",
       "    <tr style=\"text-align: right;\">\n",
       "      <th></th>\n",
       "      <th>country</th>\n",
       "      <th>food_category</th>\n",
       "      <th>consumption</th>\n",
       "      <th>co2_emission</th>\n",
       "    </tr>\n",
       "  </thead>\n",
       "  <tbody>\n",
       "    <tr>\n",
       "      <th>55</th>\n",
       "      <td>USA</td>\n",
       "      <td>pork</td>\n",
       "      <td>27.64</td>\n",
       "      <td>97.83</td>\n",
       "    </tr>\n",
       "    <tr>\n",
       "      <th>56</th>\n",
       "      <td>USA</td>\n",
       "      <td>poultry</td>\n",
       "      <td>50.01</td>\n",
       "      <td>53.72</td>\n",
       "    </tr>\n",
       "    <tr>\n",
       "      <th>57</th>\n",
       "      <td>USA</td>\n",
       "      <td>beef</td>\n",
       "      <td>36.24</td>\n",
       "      <td>1118.29</td>\n",
       "    </tr>\n",
       "    <tr>\n",
       "      <th>58</th>\n",
       "      <td>USA</td>\n",
       "      <td>lamb_goat</td>\n",
       "      <td>0.43</td>\n",
       "      <td>15.06</td>\n",
       "    </tr>\n",
       "    <tr>\n",
       "      <th>59</th>\n",
       "      <td>USA</td>\n",
       "      <td>fish</td>\n",
       "      <td>12.35</td>\n",
       "      <td>19.72</td>\n",
       "    </tr>\n",
       "    <tr>\n",
       "      <th>60</th>\n",
       "      <td>USA</td>\n",
       "      <td>eggs</td>\n",
       "      <td>14.58</td>\n",
       "      <td>13.39</td>\n",
       "    </tr>\n",
       "    <tr>\n",
       "      <th>61</th>\n",
       "      <td>USA</td>\n",
       "      <td>dairy</td>\n",
       "      <td>254.69</td>\n",
       "      <td>362.78</td>\n",
       "    </tr>\n",
       "    <tr>\n",
       "      <th>62</th>\n",
       "      <td>USA</td>\n",
       "      <td>wheat</td>\n",
       "      <td>80.43</td>\n",
       "      <td>15.34</td>\n",
       "    </tr>\n",
       "    <tr>\n",
       "      <th>63</th>\n",
       "      <td>USA</td>\n",
       "      <td>rice</td>\n",
       "      <td>6.88</td>\n",
       "      <td>8.80</td>\n",
       "    </tr>\n",
       "    <tr>\n",
       "      <th>64</th>\n",
       "      <td>USA</td>\n",
       "      <td>soybeans</td>\n",
       "      <td>0.04</td>\n",
       "      <td>0.02</td>\n",
       "    </tr>\n",
       "    <tr>\n",
       "      <th>65</th>\n",
       "      <td>USA</td>\n",
       "      <td>nuts</td>\n",
       "      <td>7.86</td>\n",
       "      <td>13.91</td>\n",
       "    </tr>\n",
       "    <tr>\n",
       "      <th>396</th>\n",
       "      <td>Belgium</td>\n",
       "      <td>pork</td>\n",
       "      <td>38.65</td>\n",
       "      <td>136.80</td>\n",
       "    </tr>\n",
       "    <tr>\n",
       "      <th>397</th>\n",
       "      <td>Belgium</td>\n",
       "      <td>poultry</td>\n",
       "      <td>12.20</td>\n",
       "      <td>13.11</td>\n",
       "    </tr>\n",
       "    <tr>\n",
       "      <th>398</th>\n",
       "      <td>Belgium</td>\n",
       "      <td>beef</td>\n",
       "      <td>15.63</td>\n",
       "      <td>482.31</td>\n",
       "    </tr>\n",
       "    <tr>\n",
       "      <th>399</th>\n",
       "      <td>Belgium</td>\n",
       "      <td>lamb_goat</td>\n",
       "      <td>1.32</td>\n",
       "      <td>46.23</td>\n",
       "    </tr>\n",
       "    <tr>\n",
       "      <th>400</th>\n",
       "      <td>Belgium</td>\n",
       "      <td>fish</td>\n",
       "      <td>18.97</td>\n",
       "      <td>30.29</td>\n",
       "    </tr>\n",
       "    <tr>\n",
       "      <th>401</th>\n",
       "      <td>Belgium</td>\n",
       "      <td>eggs</td>\n",
       "      <td>12.59</td>\n",
       "      <td>11.57</td>\n",
       "    </tr>\n",
       "    <tr>\n",
       "      <th>402</th>\n",
       "      <td>Belgium</td>\n",
       "      <td>dairy</td>\n",
       "      <td>236.19</td>\n",
       "      <td>336.43</td>\n",
       "    </tr>\n",
       "    <tr>\n",
       "      <th>403</th>\n",
       "      <td>Belgium</td>\n",
       "      <td>wheat</td>\n",
       "      <td>111.91</td>\n",
       "      <td>21.34</td>\n",
       "    </tr>\n",
       "    <tr>\n",
       "      <th>404</th>\n",
       "      <td>Belgium</td>\n",
       "      <td>rice</td>\n",
       "      <td>8.61</td>\n",
       "      <td>11.02</td>\n",
       "    </tr>\n",
       "    <tr>\n",
       "      <th>405</th>\n",
       "      <td>Belgium</td>\n",
       "      <td>soybeans</td>\n",
       "      <td>0.07</td>\n",
       "      <td>0.03</td>\n",
       "    </tr>\n",
       "    <tr>\n",
       "      <th>406</th>\n",
       "      <td>Belgium</td>\n",
       "      <td>nuts</td>\n",
       "      <td>7.32</td>\n",
       "      <td>12.96</td>\n",
       "    </tr>\n",
       "  </tbody>\n",
       "</table>\n",
       "</div>"
      ],
      "text/plain": [
       "     country food_category  consumption  co2_emission\n",
       "55       USA          pork        27.64         97.83\n",
       "56       USA       poultry        50.01         53.72\n",
       "57       USA          beef        36.24       1118.29\n",
       "58       USA     lamb_goat         0.43         15.06\n",
       "59       USA          fish        12.35         19.72\n",
       "60       USA          eggs        14.58         13.39\n",
       "61       USA         dairy       254.69        362.78\n",
       "62       USA         wheat        80.43         15.34\n",
       "63       USA          rice         6.88          8.80\n",
       "64       USA      soybeans         0.04          0.02\n",
       "65       USA          nuts         7.86         13.91\n",
       "396  Belgium          pork        38.65        136.80\n",
       "397  Belgium       poultry        12.20         13.11\n",
       "398  Belgium          beef        15.63        482.31\n",
       "399  Belgium     lamb_goat         1.32         46.23\n",
       "400  Belgium          fish        18.97         30.29\n",
       "401  Belgium          eggs        12.59         11.57\n",
       "402  Belgium         dairy       236.19        336.43\n",
       "403  Belgium         wheat       111.91         21.34\n",
       "404  Belgium          rice         8.61         11.02\n",
       "405  Belgium      soybeans         0.07          0.03\n",
       "406  Belgium          nuts         7.32         12.96"
      ]
     },
     "execution_count": 12,
     "metadata": {},
     "output_type": "execute_result"
    }
   ],
   "source": [
    "# Subset for Belgium and USA only\n",
    "be_and_usa = food_consumption[(food_consumption['country'] == 'Belgium') | (food_consumption['country'] == 'USA')]\n",
    "be_and_usa"
   ]
  },
  {
   "cell_type": "markdown",
   "id": "e4eaa218-18b2-4793-898b-85162c0d7700",
   "metadata": {},
   "source": [
    "Group the subsetted data by country and select only the consumption column.\n",
    "Calculate the mean and median of the kilograms of food consumed per person per year in each country using .agg().\n",
    "\n"
   ]
  },
  {
   "cell_type": "code",
   "execution_count": 13,
   "id": "dda2a1ff-f9ef-4796-8618-b92ff18b3626",
   "metadata": {},
   "outputs": [
    {
     "name": "stdout",
     "output_type": "stream",
     "text": [
      "              mean  median\n",
      "country                   \n",
      "Belgium  42.132727   12.59\n",
      "USA      44.650000   14.58\n"
     ]
    }
   ],
   "source": [
    "# Group by country, select consumption column, and compute mean and median\n",
    "print(be_and_usa.groupby('country')['consumption'].agg(['mean','median']))"
   ]
  },
  {
   "cell_type": "markdown",
   "id": "5acc64be-bc6c-4374-a55e-3509bda18e49",
   "metadata": {},
   "source": [
    "Marvelous! When we want to compare summary statistics between groups, it's much easier to use .groupby() and .agg() instead of subsetting and calling the same functions multiple times."
   ]
  },
  {
   "cell_type": "markdown",
   "id": "9bb7a0f0-11ed-4376-a176-2217e2053369",
   "metadata": {},
   "source": [
    "## Mean vs. median\n",
    "Mean is the sum of all the data points divided by the total number of data points, and the median is the middle value of the dataset where 50% of the data is less than the median, and 50% of the data is greater than the median. In this exercise, we'll compare these two measures of center."
   ]
  },
  {
   "cell_type": "markdown",
   "id": "55501b02-b354-49af-97c5-613825c8a551",
   "metadata": {},
   "source": [
    "Subset food_consumption to get the rows where food_category is 'rice'.\n"
   ]
  },
  {
   "cell_type": "code",
   "execution_count": 14,
   "id": "b54dac7c-81c3-4c7d-a5bb-e99d613a0c60",
   "metadata": {},
   "outputs": [
    {
     "data": {
      "text/html": [
       "<div>\n",
       "<style scoped>\n",
       "    .dataframe tbody tr th:only-of-type {\n",
       "        vertical-align: middle;\n",
       "    }\n",
       "\n",
       "    .dataframe tbody tr th {\n",
       "        vertical-align: top;\n",
       "    }\n",
       "\n",
       "    .dataframe thead th {\n",
       "        text-align: right;\n",
       "    }\n",
       "</style>\n",
       "<table border=\"1\" class=\"dataframe\">\n",
       "  <thead>\n",
       "    <tr style=\"text-align: right;\">\n",
       "      <th></th>\n",
       "      <th>country</th>\n",
       "      <th>food_category</th>\n",
       "      <th>consumption</th>\n",
       "      <th>co2_emission</th>\n",
       "    </tr>\n",
       "  </thead>\n",
       "  <tbody>\n",
       "    <tr>\n",
       "      <th>8</th>\n",
       "      <td>Argentina</td>\n",
       "      <td>rice</td>\n",
       "      <td>8.77</td>\n",
       "      <td>11.22</td>\n",
       "    </tr>\n",
       "    <tr>\n",
       "      <th>19</th>\n",
       "      <td>Australia</td>\n",
       "      <td>rice</td>\n",
       "      <td>11.03</td>\n",
       "      <td>14.12</td>\n",
       "    </tr>\n",
       "    <tr>\n",
       "      <th>30</th>\n",
       "      <td>Albania</td>\n",
       "      <td>rice</td>\n",
       "      <td>7.78</td>\n",
       "      <td>9.96</td>\n",
       "    </tr>\n",
       "    <tr>\n",
       "      <th>41</th>\n",
       "      <td>Iceland</td>\n",
       "      <td>rice</td>\n",
       "      <td>3.89</td>\n",
       "      <td>4.98</td>\n",
       "    </tr>\n",
       "    <tr>\n",
       "      <th>52</th>\n",
       "      <td>New Zealand</td>\n",
       "      <td>rice</td>\n",
       "      <td>9.16</td>\n",
       "      <td>11.72</td>\n",
       "    </tr>\n",
       "    <tr>\n",
       "      <th>...</th>\n",
       "      <td>...</td>\n",
       "      <td>...</td>\n",
       "      <td>...</td>\n",
       "      <td>...</td>\n",
       "    </tr>\n",
       "    <tr>\n",
       "      <th>1383</th>\n",
       "      <td>Sierra Leone</td>\n",
       "      <td>rice</td>\n",
       "      <td>103.30</td>\n",
       "      <td>132.19</td>\n",
       "    </tr>\n",
       "    <tr>\n",
       "      <th>1394</th>\n",
       "      <td>Sri Lanka</td>\n",
       "      <td>rice</td>\n",
       "      <td>109.72</td>\n",
       "      <td>140.41</td>\n",
       "    </tr>\n",
       "    <tr>\n",
       "      <th>1405</th>\n",
       "      <td>Indonesia</td>\n",
       "      <td>rice</td>\n",
       "      <td>134.62</td>\n",
       "      <td>172.27</td>\n",
       "    </tr>\n",
       "    <tr>\n",
       "      <th>1416</th>\n",
       "      <td>Liberia</td>\n",
       "      <td>rice</td>\n",
       "      <td>94.75</td>\n",
       "      <td>121.25</td>\n",
       "    </tr>\n",
       "    <tr>\n",
       "      <th>1427</th>\n",
       "      <td>Bangladesh</td>\n",
       "      <td>rice</td>\n",
       "      <td>171.73</td>\n",
       "      <td>219.76</td>\n",
       "    </tr>\n",
       "  </tbody>\n",
       "</table>\n",
       "<p>130 rows × 4 columns</p>\n",
       "</div>"
      ],
      "text/plain": [
       "           country food_category  consumption  co2_emission\n",
       "8        Argentina          rice         8.77         11.22\n",
       "19       Australia          rice        11.03         14.12\n",
       "30         Albania          rice         7.78          9.96\n",
       "41         Iceland          rice         3.89          4.98\n",
       "52     New Zealand          rice         9.16         11.72\n",
       "...            ...           ...          ...           ...\n",
       "1383  Sierra Leone          rice       103.30        132.19\n",
       "1394     Sri Lanka          rice       109.72        140.41\n",
       "1405     Indonesia          rice       134.62        172.27\n",
       "1416       Liberia          rice        94.75        121.25\n",
       "1427    Bangladesh          rice       171.73        219.76\n",
       "\n",
       "[130 rows x 4 columns]"
      ]
     },
     "execution_count": 14,
     "metadata": {},
     "output_type": "execute_result"
    }
   ],
   "source": [
    "# Subset for food_category equals rice\n",
    "rice_consumption = food_consumption[food_consumption['food_category'] == 'rice']\n",
    "rice_consumption"
   ]
  },
  {
   "cell_type": "markdown",
   "id": "5cacc96c-9c9c-4f47-9b25-38c156d6bbbd",
   "metadata": {},
   "source": [
    "Create a histogram of co2_emission for rice and show the plot."
   ]
  },
  {
   "cell_type": "code",
   "execution_count": 17,
   "id": "c83e9666-27e6-47be-9238-ffe7104ed8b6",
   "metadata": {},
   "outputs": [],
   "source": [
    "import matplotlib.pyplot as plt"
   ]
  },
  {
   "cell_type": "code",
   "execution_count": 18,
   "id": "17a05e77-522c-4b20-8804-762b0b5ebcd2",
   "metadata": {},
   "outputs": [
    {
     "data": {
      "image/png": "[encoded data removed]",
      "text/plain": [
       "<Figure size 640x480 with 1 Axes>"
      ]
     },
     "metadata": {},
     "output_type": "display_data"
    }
   ],
   "source": [
    "# Histogram of co2_emission for rice and show plot\n",
    "plt.hist(rice_consumption['co2_emission'])\n",
    "plt.\n",
    "plt.show()"
   ]
  },
  {
   "cell_type": "markdown",
   "id": "0b694970-a912-4c7d-8b06-1dc4bfb6162a",
   "metadata": {},
   "source": [
    "It's right skewed."
   ]
  },
  {
   "cell_type": "markdown",
   "id": "33b7bf39-a257-41c2-8dc2-4c99c0e49bee",
   "metadata": {},
   "source": [
    "Use .agg() to calculate the mean and median of co2_emission for rice."
   ]
  },
  {
   "cell_type": "code",
   "execution_count": 19,
   "id": "0714d7ef-0f50-4af0-8f26-26b5b537af99",
   "metadata": {},
   "outputs": [
    {
     "name": "stdout",
     "output_type": "stream",
     "text": [
      "mean      37.591615\n",
      "median    15.200000\n",
      "Name: co2_emission, dtype: float64\n"
     ]
    }
   ],
   "source": [
    "# Calculate mean and median of co2_emission with .agg()\n",
    "print(rice_consumption.co2_emission.agg(['mean','median']))"
   ]
  },
  {
   "cell_type": "markdown",
   "id": "cdc1627d-9a41-4d34-b6e8-3ce1290094a4",
   "metadata": {},
   "source": [
    "Given the skew of this data, median measure of central tendency best summarizes the kilograms of CO2 emissions per person per year for rice.\n",
    "The mean is substantially higher than the median since it's being pulled up by the high values over 100 kg/person/year."
   ]
  },
  {
   "cell_type": "markdown",
   "id": "d1b58a6a-8637-488c-99f0-4c56e827f394",
   "metadata": {},
   "source": [
    "## Quartiles, quantiles, and quintiles\n",
    "Quantiles are a great way of summarizing numerical data since they can be used to measure center and spread, as well as to get a sense of where a data point stands in relation to the rest of the data set. For example, we might want to give a discount to the 10% most active users on a website.\n",
    "\n",
    "We'll calculate quartiles, quintiles, and deciles, which split up a dataset into 4, 5, and 10 pieces, respectively.\n"
   ]
  },
  {
   "cell_type": "markdown",
   "id": "8ffc7e38-b0bc-46b7-8560-8f50392b9117",
   "metadata": {},
   "source": [
    "Calculate the quartiles of the co2_emission column of food_consumption."
   ]
  },
  {
   "cell_type": "code",
   "execution_count": 20,
   "id": "96a35496-4344-44ab-b7b8-5f1861506833",
   "metadata": {},
   "outputs": [
    {
     "name": "stdout",
     "output_type": "stream",
     "text": [
      "[   0.        5.21     16.53     62.5975 1712.    ]\n"
     ]
    }
   ],
   "source": [
    "# Calculate the quartiles of co2_emission\n",
    "print(np.quantile(food_consumption['co2_emission'],[0,0.25,0.5,0.75,1]))"
   ]
  },
  {
   "cell_type": "markdown",
   "id": "10e96050-a304-4108-b94f-2780f394219e",
   "metadata": {},
   "source": [
    "Calculate the six quantiles that split up the data into 5 pieces (quintiles) of the co2_emission column of food_consumption.\n",
    "\n"
   ]
  },
  {
   "cell_type": "code",
   "execution_count": 22,
   "id": "1403f65b-8ec8-46fb-83a0-d64c8a064c54",
   "metadata": {},
   "outputs": [
    {
     "name": "stdout",
     "output_type": "stream",
     "text": [
      "[   0.       3.54    11.026   25.59    99.978 1712.   ]\n"
     ]
    }
   ],
   "source": [
    "# Calculate the quintiles of co2_emission\n",
    "print(np.quantile(food_consumption['co2_emission'],np.linspace(0,1,6)))"
   ]
  },
  {
   "cell_type": "markdown",
   "id": "ae8c943a-691a-4d74-9be8-292ca4144b7f",
   "metadata": {},
   "source": [
    "Calculate the eleven quantiles of co2_emission that split up the data into ten pieces (deciles)."
   ]
  },
  {
   "cell_type": "code",
   "execution_count": 23,
   "id": "6feb714c-1ddf-45af-9c56-ea925a629439",
   "metadata": {},
   "outputs": [
    {
     "name": "stdout",
     "output_type": "stream",
     "text": [
      "[0.00000e+00 6.68000e-01 3.54000e+00 7.04000e+00 1.10260e+01 1.65300e+01\n",
      " 2.55900e+01 4.42710e+01 9.99780e+01 2.03629e+02 1.71200e+03]\n"
     ]
    }
   ],
   "source": [
    "# Calculate the deciles of co2_emission\n",
    "print(np.quantile(food_consumption['co2_emission'],np.linspace(0,1,11)))"
   ]
  },
  {
   "cell_type": "markdown",
   "id": "5bdfb4b0-d285-4a9c-8f4a-2d79e2b2a2ae",
   "metadata": {},
   "source": [
    "Those are some high-quality quantiles! While calculating more quantiles gives us a more detailed look at the data, it also produces more numbers, making the summary more difficult to quickly understand."
   ]
  },
  {
   "cell_type": "markdown",
   "id": "3b25d6f0-526f-4ba4-af45-ce818b906559",
   "metadata": {},
   "source": [
    "## Variance and standard deviation\n",
    "Variance and standard deviation are two of the most common ways to measure the spread of a variable. Spread is important since it can help inform expectations. For example, if a salesperson sells a mean of 20 products a day, but has a standard deviation of 10 products, there will probably be days where they sell 40 products, but also days where they only sell one or two. Information like this is important, especially when making predictions."
   ]
  },
  {
   "cell_type": "markdown",
   "id": "57dcbec5-a47a-4388-80ed-a2a024476856",
   "metadata": {},
   "source": [
    "Calculate the variance and standard deviation of co2_emission for each food_category by grouping and aggregating."
   ]
  },
  {
   "cell_type": "code",
   "execution_count": 24,
   "id": "e507802d-a4db-43ea-adf4-95379dabf66d",
   "metadata": {},
   "outputs": [
    {
     "name": "stdout",
     "output_type": "stream",
     "text": [
      "                        var         std\n",
      "food_category                          \n",
      "beef           88748.408132  297.906710\n",
      "dairy          17671.891985  132.935669\n",
      "eggs              21.371819    4.622966\n",
      "fish             921.637349   30.358481\n",
      "lamb_goat      16475.518363  128.356996\n",
      "nuts              35.639652    5.969895\n",
      "pork            3094.963537   55.632396\n",
      "poultry          245.026801   15.653332\n",
      "rice            2281.376243   47.763754\n",
      "soybeans           0.879882    0.938020\n",
      "wheat             71.023937    8.427570\n"
     ]
    }
   ],
   "source": [
    "# Print variance and sd of co2_emission for each food_category\n",
    "print(food_consumption.groupby('food_category')['co2_emission'].agg(['var', 'std']))"
   ]
  },
  {
   "cell_type": "markdown",
   "id": "80e7395d-4d4f-430b-b35f-be5770b0a58b",
   "metadata": {},
   "source": [
    "Create a histogram of co2_emission for the beef food_category and show the plot."
   ]
  },
  {
   "cell_type": "code",
   "execution_count": 25,
   "id": "ee705041-4b64-4fa2-8a18-ba114a1aa9ae",
   "metadata": {},
   "outputs": [
    {
     "data": {
      "image/png": "[encoded data removed]",
      "text/plain": [
       "<Figure size 640x480 with 1 Axes>"
      ]
     },
     "metadata": {},
     "output_type": "display_data"
    }
   ],
   "source": [
    "# Create histogram of co2_emission for food_category 'beef'\n",
    "plt.hist(food_consumption[food_consumption['food_category']=='beef']['co2_emission'])\n",
    "# Show plot\n",
    "plt.show()"
   ]
  },
  {
   "cell_type": "markdown",
   "id": "48120ef5-6655-4e89-88ab-2cd3f5437ff2",
   "metadata": {},
   "source": [
    "Create a histogram of co2_emission for the eggs food_category and show the plot.\n",
    "\n"
   ]
  },
  {
   "cell_type": "code",
   "execution_count": 26,
   "id": "7cee035f-18a8-4528-a84f-41cb76e25284",
   "metadata": {},
   "outputs": [
    {
     "data": {
      "image/png": "[encoded data removed]",
      "text/plain": [
       "<Figure size 640x480 with 1 Axes>"
      ]
     },
     "metadata": {},
     "output_type": "display_data"
    }
   ],
   "source": [
    "# Create histogram of co2_emission for food_category 'eggs'\n",
    "plt.hist(food_consumption[food_consumption['food_category'] == 'eggs']['co2_emission'])\n",
    "# Show plot\n",
    "plt.show()"
   ]
  },
  {
   "cell_type": "markdown",
   "id": "6bdce751-b619-4a8a-901f-b5f8a207b339",
   "metadata": {},
   "source": [
    "Superb spread measurement! Beef has the largest amount of variation in its CO2 emissions, while eggs have a relatively small amount of variation."
   ]
  },
  {
   "cell_type": "code",
   "execution_count": 31,
   "id": "1d3b4f59-07eb-4f43-b730-d4e00fb2f5b5",
   "metadata": {},
   "outputs": [
    {
     "data": {
      "text/plain": [
       "2       1712.00\n",
       "13      1044.85\n",
       "24       694.30\n",
       "35       412.26\n",
       "46       693.99\n",
       "         ...   \n",
       "1377      61.41\n",
       "1388      42.58\n",
       "1399      79.92\n",
       "1410      24.07\n",
       "1421      39.50\n",
       "Name: co2_emission, Length: 130, dtype: float64"
      ]
     },
     "execution_count": 31,
     "metadata": {},
     "output_type": "execute_result"
    }
   ],
   "source": [
    "food_consumption[food_consumption['food_category']=='beef']['co2_emission']"
   ]
  },
  {
   "cell_type": "code",
   "execution_count": 32,
   "id": "3bceb826-80c4-443b-b3e5-e9f8eb319916",
   "metadata": {},
   "outputs": [
    {
     "data": {
      "text/plain": [
       "5       10.46\n",
       "16       7.82\n",
       "27      11.44\n",
       "38       7.57\n",
       "49       9.10\n",
       "        ...  \n",
       "1380     1.76\n",
       "1391     4.20\n",
       "1402     4.48\n",
       "1413     1.88\n",
       "1424     1.91\n",
       "Name: co2_emission, Length: 130, dtype: float64"
      ]
     },
     "execution_count": 32,
     "metadata": {},
     "output_type": "execute_result"
    }
   ],
   "source": [
    "food_consumption[food_consumption['food_category']=='eggs']['co2_emission']"
   ]
  },
  {
   "attachments": {
    "30366797-2ae5-45ff-a0bb-dbe749af12f0.png": {
     "image/png": "[encoded data removed]"
    }
   },
   "cell_type": "markdown",
   "id": "a5eb8aea-b5c5-484d-aeec-850ac2900fc7",
   "metadata": {},
   "source": [
    "## Finding outliers using IQR\n",
    "Outliers can have big effects on statistics like mean, as well as statistics that rely on the mean, such as variance and standard deviation. Interquartile range, or IQR, is another way of measuring spread that's less influenced by outliers. IQR is also often used to find outliers. If a value is less than Q1-1.5 x IQR or greater than Q3 + 1.5 X IQR , it's considered an outlier. In fact, this is how the lengths of the whiskers in a matplotlib box plot are calculated.\n",
    "\n",
    "![image.png](attachment:30366797-2ae5-45ff-a0bb-dbe749af12f0.png)"
   ]
  },
  {
   "cell_type": "markdown",
   "id": "5385b60f-ced6-4454-a438-5c11cddfafa9",
   "metadata": {},
   "source": [
    "Calculate the total co2_emission per country by grouping by country and taking the sum of co2_emission. Store the resulting DataFrame as emissions_by_country."
   ]
  },
  {
   "cell_type": "code",
   "execution_count": 33,
   "id": "b4b7f6f6-eaf5-404f-a7ed-ca4402f76850",
   "metadata": {},
   "outputs": [
    {
     "data": {
      "text/plain": [
       "country\n",
       "Albania      1777.85\n",
       "Algeria       707.88\n",
       "Angola        412.99\n",
       "Argentina    2172.40\n",
       "Armenia      1109.93\n",
       "              ...   \n",
       "Uruguay      1634.91\n",
       "Venezuela    1104.10\n",
       "Vietnam       641.51\n",
       "Zambia        225.30\n",
       "Zimbabwe      350.33\n",
       "Name: co2_emission, Length: 130, dtype: float64"
      ]
     },
     "execution_count": 33,
     "metadata": {},
     "output_type": "execute_result"
    }
   ],
   "source": [
    "# Calculate total co2_emission per country: emissions_by_country\n",
    "emissions_by_country = food_consumption.groupby('country')['co2_emission'].agg('sum')\n",
    "emissions_by_country"
   ]
  },
  {
   "cell_type": "markdown",
   "id": "01a4252c-4a98-4261-a596-f15f0e7e3af4",
   "metadata": {},
   "source": [
    "Compute the first and third quartiles of emissions_by_country and store these as q1 and q3.\n",
    "\n",
    "Calculate the interquartile range of emissions_by_country and store it as iqr.\n"
   ]
  },
  {
   "cell_type": "code",
   "execution_count": 34,
   "id": "884b9a28-8d84-48cf-aa43-ed422881bd32",
   "metadata": {},
   "outputs": [
    {
     "data": {
      "text/plain": [
       "446.66"
      ]
     },
     "execution_count": 34,
     "metadata": {},
     "output_type": "execute_result"
    }
   ],
   "source": [
    "# Compute the first and third quartiles and IQR of emissions_by_country\n",
    "q1 = np.quantile(emissions_by_country,0.25)\n",
    "q1"
   ]
  },
  {
   "cell_type": "code",
   "execution_count": 35,
   "id": "c9d4a46c-5211-4a06-9b7c-bcc9eb76322c",
   "metadata": {},
   "outputs": [
    {
     "data": {
      "text/plain": [
       "1111.1525000000001"
      ]
     },
     "execution_count": 35,
     "metadata": {},
     "output_type": "execute_result"
    }
   ],
   "source": [
    "q3 = np.quantile(emissions_by_country,0.75)\n",
    "q3"
   ]
  },
  {
   "cell_type": "code",
   "execution_count": 36,
   "id": "30cfc0dd-25c6-4e67-ab72-92de24ae68bc",
   "metadata": {},
   "outputs": [
    {
     "data": {
      "text/plain": [
       "664.4925000000001"
      ]
     },
     "execution_count": 36,
     "metadata": {},
     "output_type": "execute_result"
    }
   ],
   "source": [
    "iqr = q3-q1\n",
    "iqr"
   ]
  },
  {
   "cell_type": "markdown",
   "id": "32686b2a-7b47-497b-8615-ea02506ca4f0",
   "metadata": {},
   "source": [
    "Calculate the lower and upper cutoffs for outliers of emissions_by_country, and store these as lower and upper.\n",
    "\n"
   ]
  },
  {
   "cell_type": "code",
   "execution_count": 37,
   "id": "f78d1915-bc1e-464b-8c3f-9a877d3f2c38",
   "metadata": {},
   "outputs": [
    {
     "data": {
      "text/plain": [
       "-550.0787500000001"
      ]
     },
     "execution_count": 37,
     "metadata": {},
     "output_type": "execute_result"
    }
   ],
   "source": [
    "# Calculate the lower and upper cutoffs for outliers\n",
    "lower = q1 - 1.5 * iqr\n",
    "lower"
   ]
  },
  {
   "cell_type": "code",
   "execution_count": 38,
   "id": "06cb7b0a-2085-4557-a5c6-58806a92e4c2",
   "metadata": {},
   "outputs": [
    {
     "data": {
      "text/plain": [
       "2107.89125"
      ]
     },
     "execution_count": 38,
     "metadata": {},
     "output_type": "execute_result"
    }
   ],
   "source": [
    "upper = q3 + 1.5 * iqr\n",
    "upper"
   ]
  },
  {
   "cell_type": "markdown",
   "id": "385af261-1d2a-44a6-b08b-7ec9d7b0c7c9",
   "metadata": {},
   "source": [
    "Subset emissions_by_country to get countries with a total emission greater than the upper cutoff or a total emission less than the lower cutoff.\n",
    "\n"
   ]
  },
  {
   "cell_type": "code",
   "execution_count": 41,
   "id": "ea1b0df4-3a9d-49d8-9a80-555a4ee8ec12",
   "metadata": {},
   "outputs": [
    {
     "data": {
      "text/plain": [
       "country\n",
       "Albania      False\n",
       "Algeria       True\n",
       "Angola        True\n",
       "Argentina    False\n",
       "Armenia      False\n",
       "             ...  \n",
       "Uruguay      False\n",
       "Venezuela    False\n",
       "Vietnam       True\n",
       "Zambia        True\n",
       "Zimbabwe      True\n",
       "Name: co2_emission, Length: 130, dtype: bool"
      ]
     },
     "execution_count": 41,
     "metadata": {},
     "output_type": "execute_result"
    }
   ],
   "source": [
    "emissions_by_country <1000"
   ]
  },
  {
   "cell_type": "code",
   "execution_count": 42,
   "id": "fa3fad44-4696-4758-83b4-f327783c7898",
   "metadata": {},
   "outputs": [
    {
     "name": "stdout",
     "output_type": "stream",
     "text": [
      "country\n",
      "Argentina    2172.4\n",
      "Name: co2_emission, dtype: float64\n"
     ]
    }
   ],
   "source": [
    "# Subset emissions_by_country to find outliers\n",
    "outliers = emissions_by_country[(emissions_by_country<lower) | (emissions_by_country > upper)]\n",
    "print(outliers)"
   ]
  },
  {
   "cell_type": "markdown",
   "id": "e3007de5-e608-4d55-bdc3-bbd3b392b665",
   "metadata": {},
   "source": [
    "Outstanding outlier detection! It looks like Argentina has a substantially higher amount of CO2 emissions per person than other countries in the world."
   ]
  },
  {
   "cell_type": "code",
   "execution_count": null,
   "id": "d8039069-bdbf-40d8-87e8-48ce6927ff53",
   "metadata": {},
   "outputs": [],
   "source": []
  }
 ],
 "metadata": {
  "kernelspec": {
   "display_name": "Python 3 (ipykernel)",
   "language": "python",
   "name": "python3"
  },
  "language_info": {
   "codemirror_mode": {
    "name": "ipython",
    "version": 3
   },
   "file_extension": ".py",
   "mimetype": "text/x-python",
   "name": "python",
   "nbconvert_exporter": "python",
   "pygments_lexer": "ipython3",
   "version": "3.9.6"
  }
 },
 "nbformat": 4,
 "nbformat_minor": 5
}
